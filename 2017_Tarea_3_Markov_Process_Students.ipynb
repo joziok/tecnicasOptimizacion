{
 "cells": [
  {
   "cell_type": "markdown",
   "metadata": {},
   "source": [
    "# Tarea 3.  Cadenas de Markov y procesos de Markov\n"
   ]
  },
  {
   "cell_type": "markdown",
   "metadata": {},
   "source": [
    "En esta tarea se ejercitarán los temas relacionados con las cadenas de Markov y los procesos de Markov. La tarea consiste en realizar los ejercicios incluídos en esta jupyter notebook y entregarlos completos. "
   ]
  },
  {
   "cell_type": "markdown",
   "metadata": {},
   "source": [
    "Comenzamos leyendo las diferentes librerías que se utilizarán para la tarea. Ejecute el siguiente script. "
   ]
  },
  {
   "cell_type": "code",
   "execution_count": 3,
   "metadata": {},
   "outputs": [],
   "source": [
    "%matplotlib inline\n",
    "\n",
    "import numpy as np\n",
    "import pylab as plt\n",
    "import matplotlib.cm as cm\n",
    "import matplotlib\n",
    "from PIL import Image as im\n",
    "import math\n",
    "import time \n",
    "#import networkx as nx\n",
    "#import pandas as pd \n",
    "\n",
    "import mdptoolbox\n",
    "import mdptoolbox.example\n",
    "\n",
    "from IPython.display import display\n",
    "from IPython.display import Image\n",
    "\n"
   ]
  },
  {
   "cell_type": "markdown",
   "metadata": {
    "collapsed": true
   },
   "source": [
    "## Definición del problema\n",
    "  \n",
    "    "
   ]
  },
  {
   "cell_type": "markdown",
   "metadata": {},
   "source": [
    "Considere el siguiente problema de modelado.\n",
    "\n",
    "Un vigilante de un museo debe recorrer continuamente un conjunto de 5 salas. La vigilancia comienza en la sala 1 y en cada unidad de tiempo t el vigilante puede dirigirse a otras salas o mantenerse en la actual con las siguientes probabilidades:"
   ]
  },
  {
   "cell_type": "code",
   "execution_count": 3,
   "metadata": {},
   "outputs": [
    {
     "data": {
      "image/png": "[encoded data removed]",
      "text/plain": [
       "<IPython.core.display.Image object>"
      ]
     },
     "execution_count": 3,
     "metadata": {},
     "output_type": "execute_result"
    }
   ],
   "source": [
    "Image(filename='Short_Maze_Figure.png') "
   ]
  },
  {
   "cell_type": "markdown",
   "metadata": {
    "scrolled": true
   },
   "source": [
    "La probabilidad de ir de la sala 1 a la 2 es 1.\n",
    "\n",
    "La probabilidad de ir de la sala 2 a la 5 es 1.\n",
    "\n",
    "La probabilidad de ir de la sala 5 a la 4 es 1.\n",
    "\n",
    "La probabilidad de ir de la sala 4 a la 3 es p y la probabilidad de permanecer una unidad de tiempo en la sala 4 es (1-p).\n",
    "\n",
    "La probabilidad de ir de la sala 3 a la 1 es 1. \n",
    "\n",
    " "
   ]
  },
  {
   "cell_type": "markdown",
   "metadata": {},
   "source": [
    "## Ejercicio 1"
   ]
  },
  {
   "cell_type": "markdown",
   "metadata": {},
   "source": [
    "Modele el problema anterior como una cadena de Markov y determine:\n",
    "\n",
    "1. Cuál es la matrix de transición de la cadena?\n",
    "\n",
    "2. Determine si existe una distribución límite justificando su existencia o no.\n",
    "\n",
    "3. En caso de existir halle la distribución límite."
   ]
  },
  {
   "cell_type": "code",
   "execution_count": 105,
   "metadata": {},
   "outputs": [
    {
     "data": {
      "text/latex": [
       "1) Matrix de transición de la cadena: \n",
       "    \\[\n",
       "        \\]\n",
       "    \n",
       "    \n",
       "    \\[\n",
       "    P =\\left\\{\n",
       "                \\begin{array}{ccc}\n",
       "                   0 & 1 & 0 & 0 & 0 \\\\\n",
       "                   0 & 0 & 0 & 0 & 1 \\\\\n",
       "                   1 & 0 & 0 & 0 & 0 \\\\\n",
       "                   0 & 0 & p & 1-p & 0 \\\\\n",
       "                   0 & 0 & 0 & 1 & 0 \\\\\n",
       "                   \n",
       "        \\end{array}\n",
       "              \\right.\n",
       "  \\]\n",
       "         \n",
       "            \\[\n",
       "        \\]\n",
       "2) Para valores de p diferentes a 0 y 1 nuestra matriz de transición es indivisible y aperiódica, ya que todos los estados están comunicados entre sí, y se puede alcanzar cualquier estado partiendo de este mismo con diferentes periodos de tiempo.\n",
       "\\[\n",
       "\\]\n",
       "        Si p=0, todos los estados dejan de estar conectados entre sí, teniendo en el estado 4 un estado absorvente.\n",
       "\\[\n",
       "\\]\n",
       "        Si p=1, tenemos una matriz indivisible y periódica, por lo cual no existe una distribución límite.\n",
       "                    \\[\n",
       "        \\]\n",
       "        \n",
       "3) La distribución límite se calcula de la siguiente manera:\n",
       "            \\[\n",
       "        \\]\n",
       "    \n",
       "    \n",
       "    \\[\n",
       "    \\left\\{\n",
       "                \\begin{array}{ccc}\n",
       "                   π_{0}=π_{2} \\\\\n",
       "                   π_{1}=π_{0} \\\\\n",
       "                   π_{2}=p·π_{3} \\\\\n",
       "                   π_{3}=(1-p)·π_{3}+π_{4} \\\\\n",
       "                   π_{4}=π_{1} \\\\\n",
       "                   π_{0}+π_{1}+π_{2}+π_{3}+π_{4}=1\\\\\n",
       "                   \n",
       "        \\end{array}\n",
       "              \\right.\n",
       "  \\]\n",
       "            \\[\n",
       "        \\]\n",
       "Podemos dejarlo todo en función de π3:\n",
       "                \\[\n",
       "        \\]\n",
       "        \n",
       "        \\[\\left\\{\n",
       "                \\begin{array}{ccc}\n",
       "                   4p·π_{3}+(1-p)·π_{3}+p·π_{3}=(4p+1)·π_{3}=1 \\\\\n",
       "                   π_{0}=π1=π2=π4=p/(4p+1) \\\\\n",
       "                   π_{3}=1/(4p+1) \\\\\n",
       "\n",
       "                   \n",
       "                   \n",
       "        \\end{array}\n",
       "              \\right.\\]\n",
       "            \\[\n",
       "        \\]\n",
       "En la siguiente celda creamos una función para dada una p, de manera que 0<p<1, y un número de iteraciones, verifique que existe una distribución límite, y nos muestre dicha distribución.\n",
       "        \n",
       "        "
      ],
      "text/plain": [
       "<IPython.core.display.Latex object>"
      ]
     },
     "metadata": {},
     "output_type": "display_data"
    }
   ],
   "source": [
    "%%%latex\n",
    "1) Matrix de transición de la cadena: \n",
    "    \\[\n",
    "        \\]\n",
    "    \n",
    "    \n",
    "    \\[\n",
    "    P =\\left\\{\n",
    "                \\begin{array}{ccc}\n",
    "                   0 & 1 & 0 & 0 & 0 \\\\\n",
    "                   0 & 0 & 0 & 0 & 1 \\\\\n",
    "                   1 & 0 & 0 & 0 & 0 \\\\\n",
    "                   0 & 0 & p & 1-p & 0 \\\\\n",
    "                   0 & 0 & 0 & 1 & 0 \\\\\n",
    "                   \n",
    "        \\end{array}\n",
    "              \\right.\n",
    "  \\]\n",
    "         \n",
    "            \\[\n",
    "        \\]\n",
    "2) Para valores de p diferentes a 0 y 1 nuestra matriz de transición es indivisible y aperiódica, ya que todos los estados están comunicados entre sí, y se puede alcanzar cualquier estado partiendo de este mismo con diferentes periodos de tiempo.\n",
    "\\[\n",
    "\\]\n",
    "        Si p=0, todos los estados dejan de estar conectados entre sí, teniendo en el estado 4 un estado absorvente.\n",
    "\\[\n",
    "\\]\n",
    "        Si p=1, tenemos una matriz indivisible y periódica, por lo cual no existe una distribución límite.\n",
    "                    \\[\n",
    "        \\]\n",
    "        \n",
    "3) La distribución límite se calcula de la siguiente manera:\n",
    "            \\[\n",
    "        \\]\n",
    "    \n",
    "    \n",
    "    \\[\n",
    "    \\left\\{\n",
    "                \\begin{array}{ccc}\n",
    "                   π_{0}=π_{2} \\\\\n",
    "                   π_{1}=π_{0} \\\\\n",
    "                   π_{2}=p·π_{3} \\\\\n",
    "                   π_{3}=(1-p)·π_{3}+π_{4} \\\\\n",
    "                   π_{4}=π_{1} \\\\\n",
    "                   π_{0}+π_{1}+π_{2}+π_{3}+π_{4}=1\\\\\n",
    "                   \n",
    "        \\end{array}\n",
    "              \\right.\n",
    "  \\]\n",
    "            \\[\n",
    "        \\]\n",
    "Podemos dejarlo todo en función de π3:\n",
    "                \\[\n",
    "        \\]\n",
    "        \n",
    "        \\[\\left\\{\n",
    "                \\begin{array}{ccc}\n",
    "                   4p·π_{3}+(1-p)·π_{3}+p·π_{3}=(4p+1)·π_{3}=1 \\\\\n",
    "                   π_{0}=π1=π2=π4=p/(4p+1) \\\\\n",
    "                   π_{3}=1/(4p+1) \\\\\n",
    "\n",
    "                   \n",
    "                   \n",
    "        \\end{array}\n",
    "              \\right.\\]\n",
    "            \\[\n",
    "        \\]\n",
    "En la siguiente celda creamos una función para dada una p, de manera que 0<p<1, y un número de iteraciones, verifique que existe una distribución límite, y nos muestre dicha distribución.\n",
    "        \n",
    "        "
   ]
  },
  {
   "cell_type": "code",
   "execution_count": 27,
   "metadata": {},
   "outputs": [
    {
     "name": "stdout",
     "output_type": "stream",
     "text": [
      "p = 1\n",
      "Existe una distribución límite y es:\n",
      "[[0 1 0 0 0]\n",
      " [0 0 0 0 1]\n",
      " [1 0 0 0 0]\n",
      " [0 0 1 0 0]\n",
      " [0 0 0 1 0]]\n"
     ]
    }
   ],
   "source": [
    "#Definimos una función que dado un valor de p y un número de iteraciones nos muestra la matriz\n",
    "def limit(N,p):\n",
    "    if p>1 or p<=0:\n",
    "        print('p debe ser un valor entre 0 y 1 y ≠{0,1}')        \n",
    "    else:\n",
    "        print('p =',p)\n",
    "        T=np.array([[0,1,0,0,0],[0,0,0,0,1],[1,0,0,0,0],[0,0,p,1-p,0],[0,0,0,1,0]])\n",
    "        T1=T.copy()\n",
    "        for i in range(N+10000): #Sumamos 100 como valor alto para garantizar que converja \n",
    "            T1=np.dot(T1,T)\n",
    "        T2=T.copy()\n",
    "        for i in range(N+20000): #Sumamos 200 como valor más alto para después compararlo con el de 100 y verificar que ha convergido\n",
    "            T2=np.dot(T2,T)\n",
    "        if np.array_equal(T1,T2):\n",
    "            print('Existe una distribución límite y es:')\n",
    "            print(T1)\n",
    "        else:\n",
    "            print('No existe una distribución límite')\n",
    "            print(T1,T2)\n",
    "    \n",
    "limit(10,1)"
   ]
  },
  {
   "cell_type": "code",
   "execution_count": 68,
   "metadata": {},
   "outputs": [
    {
     "name": "stdout",
     "output_type": "stream",
     "text": [
      "p = 0.721\n",
      "Se requiere un número de iteraciones N mayor para encontrar la distribución límite\n",
      "Las dos últimas iteraciones devuelven las siguientes distribuciones:\n",
      "[[ 0.18563337  0.18563337  0.18563337  0.25746653  0.18563337]\n",
      " [ 0.18563337  0.18563337  0.18563337  0.25746653  0.18563337]\n",
      " [ 0.18563337  0.18563337  0.18563337  0.25746653  0.18563337]\n",
      " [ 0.18563337  0.18563337  0.18563337  0.25746653  0.18563337]\n",
      " [ 0.18563337  0.18563337  0.18563337  0.25746653  0.18563337]]\n",
      "[[ 0.18563337  0.18563337  0.18563337  0.25746653  0.18563337]\n",
      " [ 0.18563337  0.18563337  0.18563337  0.25746653  0.18563337]\n",
      " [ 0.18563337  0.18563337  0.18563337  0.25746653  0.18563337]\n",
      " [ 0.18563337  0.18563337  0.18563337  0.25746653  0.18563337]\n",
      " [ 0.18563337  0.18563337  0.18563337  0.25746653  0.18563337]]\n"
     ]
    }
   ],
   "source": [
    "#Definimos una función que dado un valor de p y un número de iteraciones nos muestra la matriz\n",
    "def limit(N,p):\n",
    "    if p>=1 or p<=0:\n",
    "        print('p debe ser un valor entre 0 y 1 y ≠{0,1}')        \n",
    "    else:\n",
    "        print('p =',p)\n",
    "        T=np.array([[0,1,0,0,0],[0,0,0,0,1],[1,0,0,0,0],[0,0,p,1-p,0],[0,0,0,1,0]])\n",
    "        T1=T.copy()\n",
    "        for i in range(N): \n",
    "            Tprev = T1.copy()\n",
    "            T1=np.dot(T1,T)        \n",
    "            if np.array_equal(T1,Tprev):\n",
    "                print('Existe una distribución límite y es:')\n",
    "                print(T1)\n",
    "                print(\"Número de iteraciones necesario = \" + str(i))\n",
    "                return\n",
    "    \n",
    "        print('Se requiere un número de iteraciones N mayor para encontrar la distribución límite')\n",
    "        print('Las dos últimas iteraciones devuelven las siguientes distribuciones:')\n",
    "        print(T1)\n",
    "        print(Tprev)\n",
    "\n",
    "\n",
    "        \n",
    "    \n",
    "limit(100000,0.721)"
   ]
  },
  {
   "cell_type": "markdown",
   "metadata": {},
   "source": [
    "## Ejercicio 2"
   ]
  },
  {
   "cell_type": "markdown",
   "metadata": {
    "collapsed": true
   },
   "source": [
    "Implemente en la siguiente celda un procedimiento en python que dada una sala determinada $i \\in \\{1,\\dots,5\\}$, una sala de destino $j$, y un momento en el tiempo $k$, devuelva cuál es la probabilidad de que el vigilante pase de la sala  $i$ a la sala $j$ en la unidad de tiempo $t$. "
   ]
  },
  {
   "cell_type": "code",
   "execution_count": 86,
   "metadata": {},
   "outputs": [
    {
     "data": {
      "text/plain": [
       "1.0"
      ]
     },
     "execution_count": 86,
     "metadata": {},
     "output_type": "execute_result"
    }
   ],
   "source": [
    "\n",
    "def transition_probability(i,j,p):\n",
    "    T=np.array([[0,1,0,0,0],[0,0,0,0,1],[1,0,0,0,0],[0,0,p,1-p,0],[0,0,0,1,0]])\n",
    "    if p>=1 or p<=0:\n",
    "        print('p debe ser un valor entre 0 y 1 y ≠0,1')        \n",
    "    else:\n",
    "        return T[i-1][j-1] # python empieza a contar desde 0 y no desde 1\n",
    "\n",
    "\n",
    "transition_probability(1,2,0.8)"
   ]
  },
  {
   "cell_type": "markdown",
   "metadata": {
    "collapsed": true
   },
   "source": [
    "## Ejercicio 3"
   ]
  },
  {
   "cell_type": "markdown",
   "metadata": {},
   "source": [
    "\n",
    "Un operario observa un sistema de tiempo discreto que se mueve entre los estados $s_1$, $s_2$, $s_3$ y $s_4$ de acuerdo con la siguiente matriz de transición:\n",
    "\n"
   ]
  },
  {
   "cell_type": "code",
   "execution_count": 2,
   "metadata": {},
   "outputs": [
    {
     "data": {
      "text/latex": [
       "\n",
       "\n",
       "\n",
       "\\[\n",
       "    P =\\left\\{\n",
       "                \\begin{array}{ccc}\n",
       "                   0.3 & 0.4  & 0.2 & 0.1 \\\\\n",
       "                   0.2 & 0.3  & 0.5 & 0.0 \\\\\n",
       "                   0.1 & 0.0  & 0.8 & 0.1 \\\\\n",
       "                   0.4 & 0.0  & 0.0 & 0.6 \\\\\n",
       "                   \n",
       "        \\end{array}\n",
       "              \\right.\n",
       "  \\]"
      ],
      "text/plain": [
       "<IPython.core.display.Latex object>"
      ]
     },
     "metadata": {},
     "output_type": "display_data"
    }
   ],
   "source": [
    "%%%latex\n",
    "\n",
    "\n",
    "\n",
    "\\[\n",
    "    P =\\left\\{\n",
    "                \\begin{array}{ccc}\n",
    "                   0.3 & 0.4  & 0.2 & 0.1 \\\\\n",
    "                   0.2 & 0.3  & 0.5 & 0.0 \\\\\n",
    "                   0.1 & 0.0  & 0.8 & 0.1 \\\\\n",
    "                   0.4 & 0.0  & 0.0 & 0.6 \\\\\n",
    "                   \n",
    "        \\end{array}\n",
    "              \\right.\n",
    "  \\]"
   ]
  },
  {
   "cell_type": "markdown",
   "metadata": {
    "collapsed": true
   },
   "source": [
    "En cada momento en el tiempo, el operario puede detener la ejecución del sistema y recibir por esta acción una recompensa de R=20 unidades, o mantenerse observando el sistema y recibir una recompensa de $r(s_i)$ unidades si el sistema pasa a ocupar el estado $s_i$. Si el operario decide mantenerse observando el sistema su estado en el siguiente momento es determinado por la matriz de transición P. "
   ]
  },
  {
   "cell_type": "markdown",
   "metadata": {},
   "source": [
    "1. Implemente un programa que dados los valores $[r(s_1),r(s_2),r(s_3),r(s_4)]$ devuelva las matrices de transición y las matrices de recompensa.\n",
    "\n",
    "2. Assumiendo que $r(s_i)=i$, calcule utilizando el mdptoolbox la política óptima en un horizonte de 10 pasos.  \n",
    "\n",
    "2. Assumiendo que $r(s_i)=i$, y un factor de descuento $0.9$  calcule utilizando el mdptoolbox la política óptima en un horizonte infinito. "
   ]
  },
  {
   "cell_type": "code",
   "execution_count": null,
   "metadata": {},
   "outputs": [],
   "source": []
  },
  {
   "cell_type": "code",
   "execution_count": null,
   "metadata": {
    "collapsed": true
   },
   "outputs": [],
   "source": []
  }
 ],
 "metadata": {
  "kernelspec": {
   "display_name": "Python 3",
   "language": "python",
   "name": "python3"
  },
  "language_info": {
   "codemirror_mode": {
    "name": "ipython",
    "version": 3
   },
   "file_extension": ".py",
   "mimetype": "text/x-python",
   "name": "python",
   "nbconvert_exporter": "python",
   "pygments_lexer": "ipython3",
   "version": "3.6.3"
  }
 },
 "nbformat": 4,
 "nbformat_minor": 1
}
